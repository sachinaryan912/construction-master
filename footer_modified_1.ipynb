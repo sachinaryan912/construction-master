{
 "cells": [
  {
   "cell_type": "code",
   "execution_count": 1,
   "metadata": {
    "id": "CENcov85aWSc"
   },
   "outputs": [],
   "source": [
    "import numpy as np\n",
    "import pandas as pd\n",
    "from pandas import ExcelWriter\n",
    "from pandas import ExcelFile"
   ]
  },
  {
   "cell_type": "code",
   "execution_count": 2,
   "metadata": {
    "id": "t0TZZNGwfUhT"
   },
   "outputs": [],
   "source": [
    "table_19 = pd.read_excel(\"Table 19.xlsx\")\n",
    "clause_40_2_1_1 = pd.read_excel(\"clause 40_2_1_1.xlsx\")\n",
    "clause_26_2_1_1 = pd.read_excel('clause 26_2_1_1.xlsx')"
   ]
  },
  {
   "cell_type": "code",
   "execution_count": 3,
   "metadata": {
    "colab": {
     "base_uri": "https://localhost:8080/"
    },
    "id": "YLyF3VsffXB7",
    "outputId": "bfce26fb-b6ce-4816-b4b3-492367ce03c7"
   },
   "outputs": [
    {
     "name": "stdout",
     "output_type": "stream",
     "text": [
      "Enter axial load in kNm: 1200\n",
      "Enter length of column in mm:450\n",
      "Enter breadth of column  in mm:450\n",
      "Enter the diameter of rod in mm [10, 12, 14, 16, 18, 20, 22, 25, 32, 40]: 25\n",
      "Enter the number of bars taken : 4\n",
      "Enter the grade of concrete from [20, 25, 30, 35, 40]: 20\n",
      "Enter the grade of steel from [415, 500]: 415\n",
      "Enter the bearing capacity of soil in kN/m*m: 105\n"
     ]
    }
   ],
   "source": [
    "axial_load = float (input(\"Enter axial load in kNm: \"))\n",
    "column_length = float (input(\"Enter length of column in mm:\"))\n",
    "column_breadth = float (input(\"Enter breadth of column  in mm:\"))\n",
    "diameter_bars = int (input(\"Enter the diameter of rod in mm [10, 12, 14, 16, 18, 20, 22, 25, 32, 40]: \"))\n",
    "num_bars = int (input(\"Enter the number of bars taken : \"))\n",
    "fck = int (input(\"Enter the grade of concrete from [20, 25, 30, 35, 40]: \"))\n",
    "fy = int (input(\"Enter the grade of steel from [415, 500]: \"))\n",
    "bearing_capacity_soil = float (input(\"Enter the bearing capacity of soil in kN/m*m: \"))\n",
    "if (column_breadth > column_length):\n",
    "    column_length, column_breadth = column_breadth, column_length"
   ]
  },
  {
   "cell_type": "code",
   "execution_count": 20,
   "metadata": {
    "colab": {
     "base_uri": "https://localhost:8080/",
     "height": 132
    },
    "id": "ujU7bBx9hJZb",
    "outputId": "6d84f6d1-8d9c-4106-fa84-aa78cec7364f"
   },
   "outputs": [
    {
     "name": "stdout",
     "output_type": "stream",
     "text": [
      "Enter the diameter of rod in mm [10, 12, 14, 16, 18, 20, 22, 25, 32, 40]: 20\n",
      "footing_length 3.5456210417116734 column_length: 450.0, efffective depth: 165.0\n",
      "Provide 20mm bars at 300mm\n",
      "Provide 20mm bars at 300mm\n",
      "752.1874999999999\n",
      "dowel bars 5.755042742202935\n",
      "development length of footing940.2343749999999\n",
      "development length of double bar292.2889123750059\n",
      "puch 1721.107844876371\n",
      "new effective depth 292.2889123750059\n",
      "torque_c:0.71 torque_prem: 0.9017\n",
      "soil pressure143.1818181818182\n",
      "v_u: 186.92695757793715\n",
      "torque_vu = 0.7715043818786822\n"
     ]
    }
   ],
   "source": [
    "footing_length = np.sqrt(((1.1 * axial_load)/bearing_capacity_soil))\n",
    "footing_breadth =  (column_breadth/column_length) *footing_length\n",
    "soil_pressure = (1.5*axial_load)/(footing_length * footing_breadth)\n",
    "\n",
    "M_u_x = soil_pressure * (((footing_length - (column_length * (10**(-3))))**2)/8)\n",
    "M_u_y = soil_pressure * (((footing_breadth - (column_breadth * (10**(-3))))**2)/8)\n",
    "if (fy == 415):\n",
    "    Q = 0.36 * fck * 0.48 * (1 - 0.42*0.48)\n",
    "else :\n",
    "    Q = 0.36 * fck * 0.46 * (1 - 0.42*0.46)\n",
    "\n",
    "depth = np.ceil((np.sqrt((M_u_x*1000)/Q)) / 10 ) * 10\n",
    "diameter_footing = int (input(\"Enter the diameter of rod in mm [10, 12, 14, 16, 18, 20, 22, 25, 32, 40]: \"))\n",
    "effective_depth = depth - 75 -(diameter_footing/2)\n",
    "\n",
    "Ast_x = (((0.5 *fck)/fy) * (1- np.sqrt(1-(4.598*( (M_u_x * (10**6)) /((footing_length * (10**3))*fck* (effective_depth**2))))))) * (footing_length * (10**3)) * effective_depth\n",
    "Ast_y = (((0.5 *fck)/fy) * (1- np.sqrt(1-(4.598*( (M_u_y * (10**6)) /((footing_breadth * (10**3))*fck* (effective_depth**2))))))) * (footing_breadth * (10**3)) * effective_depth\n",
    "\n",
    "\n",
    "#calculating k from clause 40_2_1_1\n",
    "if (effective_depth <= 150):\n",
    "    k=1.3\n",
    "elif (effective_depth >=300):\n",
    "    k = 1\n",
    "else:\n",
    "    k = 1.3 + ((effective_depth - 150)*(-0.3/150))\n",
    "\n",
    "\n",
    "temp_shear_y = Ast_y/(footing_breadth * effective_depth)\n",
    "if (( fck - 10)/5 <= 6):\n",
    "    concrete_index_y = int(( fck - 10)/5)\n",
    "else:\n",
    "    concrete_index_y = 6\n",
    "if (temp_shear_y<= 0.15):\n",
    "    concrete_index_x = 1\n",
    "    torque_c_y = .28\n",
    "elif  (temp_shear_y>= 3):\n",
    "    concrete_index_x = 13\n",
    "    torque_c_y = .71\n",
    "else:\n",
    "    concrete_index_x = int((np.floor(temp_shear_y*100))//25) + (1)\n",
    "    torque_c_y = (((temp_shear_y - table19.iloc[concrete_index_x,0])*(table19.iloc[concrete_index_x,concrete_index_y]-table19.iloc[concrete_index_x+ 1,concrete_index_y ]))/(table19.iloc[concrete_index_x,0]-table19.iloc[concrete_index_x+ 1,0 ])) + table19.iloc[concrete_index_x,concrete_index_y]\n",
    "torque_prem = torque_c_y * k\n",
    "v_u = soil_pressure * 1 * (((footing_length - (column_length/1000))/2) - (effective_depth/1000))\n",
    "torque_vu = v_u / ( effective_depth)\n",
    "print(f\"footing_length {footing_length} column_length: {column_length}, efffective depth: {effective_depth}\")\n",
    "if (torque_prem < torque_vu):\n",
    "    effective_depth = (((v_u) / (torque_prem)) + effective_depth)/2\n",
    "    while (torque_vu > torque_prem):\n",
    "        v_u = soil_pressure * 1 * (((footing_length - (column_length/1000))/2) - (effective_depth/1000))\n",
    "        torque_vu = v_u / ( effective_depth)\n",
    "        effective_depth += 50\n",
    "#two way shear\n",
    "\n",
    "ks = min(1, ((1/2)+ (column_breadth/column_length)))\n",
    "torque_vp_prem = ks * 0.25 * np.sqrt(fck)\n",
    "\n",
    "net_punching_force = (1.5* axial_load) - ((soil_pressure * (column_length + effective_depth) * ( column_breadth + effective_depth)) * (10**(-6)))\n",
    "torque_vp = net_punching_force / (2*(column_length + effective_depth) * ( column_breadth + effective_depth) * effective_depth)\n",
    "while (torque_vp_prem < torque_vp):\n",
    "    effective_depth += 50 \n",
    "    torque_vp = net_punching_force / (2*(column_length + effective_depth) * ( column_breadth + effective_depth) * effective_depth)\n",
    "\n",
    "#steel reinforcement along long side\n",
    "per_y = ((0.5 *fck)/fy) * (1- np.sqrt(1-(4.598*( (M_u_y * (10**6)) /((footing_breadth * (10**3))*fck* (effective_depth**2)))))) *100\n",
    "Ast_y = max(0.12, per_y) * (1/100) * (footing_breadth * (10**3)) * effective_depth\n",
    "spacing_y = min(footing_breadth * np.pi * (1/4) * (diameter_footing**2),300)\n",
    "print(f\"Provide {diameter_footing}mm bars at {spacing_y}mm\")\n",
    "\n",
    "#steel reinforcement along short side\n",
    "per_x = ((0.5 *fck)/fy) * (1- np.sqrt(1-(4.598*( (M_u_x * (10**6)) /((footing_length * (10**3))*fck* (effective_depth**2)))))) *100\n",
    "Ast_x = max(0.12, per_x * (1/100) * (footing_length * (10**3)) * effective_depth)\n",
    "spacing_x = min(footing_length * np.pi * (1/4) * (diameter_footing **2), 300)\n",
    "print(f\"Provide {diameter_footing}mm bars at {spacing_x}mm\")\n",
    "\n",
    "#development length\n",
    "\n",
    "development_length =  (diameter_footing * 0.87*fy)/(4*1.6*clause_26_2_1_1.iloc[0,int((fck/5)-3)])\n",
    "#double bar\n",
    "fbr = (1.5* axial_load*1000)/(column_length * column_breadth)\n",
    "perm_bearing_stress = 0.45 * fck * min(2, max(1, np.sqrt((footing_length * footing_breadth)/(column_length * column_breadth))))\n",
    "while (fbr > perm_bearing_stress):\n",
    "    footing_length += 50\n",
    "    footing_breadth += 50\n",
    "    perm_bearing_stress = 0.45 * fck * min(2, max(1, np.sqrt((footing_length * footing_breadth)/(column_length * column_breadth))))\n",
    "    \n",
    "Ast_min = min(0.005 * ((column_length * column_breadth)),452)\n",
    "num_bars = max(4, Ast_min/(np.pi * (1/4) * (diameter_footing **2)))\n",
    "development_length_double_bar = (diameter_footing * 0.87*fy)/(4*1.6*clause_26_2_1_1.iloc[0,int((fck/5)-3)])/1.25\n",
    "\n",
    "while(development_length_double_bar > effective_depth):\n",
    "    development_length_double_bar = (diameter_footing * 0.87*fy)/(4*1.6*clause_26_2_1_1.iloc[0,int((fck/5)-3)])/1.25\n",
    "    if (diameter_footing <=10):\n",
    "        development_length_double_bar = effective_depth\n",
    "        break\n",
    "    diameter_footing -= 2\n",
    "num_dowel_bars = Ast_min / (np.pi * (1/4) * (diameter_footing **2))        \n",
    "print(f\"dowel bars {num_dowel_bars}\")\n",
    "print(f\"development length of footing{development_length}\")\n",
    "print(f\"development length of double bar{development_length_double_bar}\")\n",
    "\n",
    "\n",
    "print(f\"puch {net_punching_force}\")\n",
    "print(f\"new effective depth {effective_depth}\")\n",
    "print(f\"torque_c:{torque_c_y} torque_prem: {torque_prem}\")\n",
    "print(f\"soil pressure{soil_pressure}\")\n",
    "\n",
    "print(f\"v_u: {v_u}\")\n",
    "  \n",
    "print(f\"torque_vu = {torque_vu}\")\n",
    "\n"
   ]
  },
  {
   "cell_type": "code",
   "execution_count": null,
   "metadata": {},
   "outputs": [],
   "source": []
  }
 ],
 "metadata": {
  "colab": {
   "name": "footer_modified.ipynb",
   "provenance": []
  },
  "kernelspec": {
   "display_name": "Python 3 (ipykernel)",
   "language": "python",
   "name": "python3"
  },
  "language_info": {
   "codemirror_mode": {
    "name": "ipython",
    "version": 3
   },
   "file_extension": ".py",
   "mimetype": "text/x-python",
   "name": "python",
   "nbconvert_exporter": "python",
   "pygments_lexer": "ipython3",
   "version": "3.9.9"
  }
 },
 "nbformat": 4,
 "nbformat_minor": 1
}
